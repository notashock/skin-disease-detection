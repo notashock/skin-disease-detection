{
 "cells": [
  {
   "cell_type": "markdown",
   "metadata": {},
   "source": [
    "Importing Modules"
   ]
  },
  {
   "cell_type": "code",
   "execution_count": 3,
   "metadata": {},
   "outputs": [],
   "source": [
    "import os\n",
    "import numpy as np\n",
    "import torch\n",
    "from torchvision.models import efficientnet_b0, vit_b_16\n",
    "import xgboost as xgb\n",
    "import joblib\n",
    "from sklearn.model_selection import train_test_split\n",
    "from sklearn.decomposition import PCA\n",
    "from sklearn.metrics import classification_report, accuracy_score\n",
    "from tqdm import tqdm\n",
    "from torchvision import transforms\n",
    "from PIL import Image\n",
    "import matplotlib.pyplot as plt\n",
    "from collections import defaultdict"
   ]
  },
  {
   "cell_type": "markdown",
   "metadata": {},
   "source": [
    "Preprocessing Dataset using Digital Image Processing"
   ]
  },
  {
   "cell_type": "code",
   "execution_count": null,
   "metadata": {},
   "outputs": [
    {
     "name": "stderr",
     "output_type": "stream",
     "text": [
      "Processing dataset/Acne and Rosacea Photos/:   0%|          | 0/1544 [00:00<?, ?it/s]"
     ]
    },
    {
     "name": "stderr",
     "output_type": "stream",
     "text": [
      "Processing dataset/Acne and Rosacea Photos/: 100%|██████████| 1544/1544 [00:35<00:00, 43.59it/s]"
     ]
    },
    {
     "name": "stdout",
     "output_type": "stream",
     "text": [
      "✅ Preprocessing complete. Processed images saved.\n"
     ]
    },
    {
     "name": "stderr",
     "output_type": "stream",
     "text": [
      "\n"
     ]
    }
   ],
   "source": [
    "\n",
    "# Define paths\n",
    "data_dir = \"dataset/\"\n",
    "processed_dir = \"processed_dataset/\"\n",
    "os.makedirs(processed_dir, exist_ok=True)\n",
    "\n",
    "# Define transformation\n",
    "transform = transforms.Compose([\n",
    "    transforms.Resize((224, 224)),\n",
    "    transforms.ToTensor(),\n",
    "    transforms.Normalize(mean=[0.5, 0.5, 0.5], std=[0.5, 0.5, 0.5])\n",
    "])\n",
    "\n",
    "# Load and preprocess images\n",
    "def preprocess_and_save(folder, save_folder):\n",
    "    os.makedirs(save_folder, exist_ok=True)\n",
    "    image_files = os.listdir(folder)\n",
    "    for filename in tqdm(image_files, desc=f\"Processing {folder}\"):\n",
    "        img_path = os.path.join(folder, filename)\n",
    "        save_path = os.path.join(save_folder, filename)\n",
    "        try:\n",
    "            img = Image.open(img_path).convert(\"RGB\")\n",
    "            img = transform(img)\n",
    "            torch.save(img, save_path.replace(\".jpg\", \".pt\"))  # Save as tensor\n",
    "        except Exception as e:\n",
    "            print(f\"Error processing {img_path}: {e}\")\n",
    "\n",
    "# Process eczema, Acne and Rosacea Photos, and normal images\n",
    "eczema_dir = os.path.join(data_dir, \"eczema/\")\n",
    "Acne_Rosacea_dir = os.path.join(data_dir, \"Acne and Rosacea Photos/\")\n",
    "normal_dir = os.path.join(data_dir, \"normal/\")\n",
    "\n",
    "eczema_save_dir = os.path.join(processed_dir, \"eczema/\")\n",
    "Acne_Rosacea_save_dir = os.path.join(processed_dir, \"Acne and Rosacea Photos/\")\n",
    "normal_save_dir = os.path.join(processed_dir, \"normal/\")\n",
    "\n",
    "preprocess_and_save(eczema_dir, eczema_save_dir)\n",
    "preprocess_and_save(Acne_Rosacea_dir, Acne_Rosacea_save_dir)\n",
    "preprocess_and_save(normal_dir, normal_save_dir)\n",
    "\n",
    "print(\"✅ Preprocessing complete. Processed images saved.\")\n"
   ]
  },
  {
   "cell_type": "markdown",
   "metadata": {},
   "source": [
    "Feature Extraction using EfficientNet and ViT (pre-trained models)"
   ]
  },
  {
   "cell_type": "code",
   "execution_count": null,
   "metadata": {},
   "outputs": [
    {
     "name": "stderr",
     "output_type": "stream",
     "text": [
      "c:\\Users\\ashub_bysvvo7\\AppData\\Local\\Programs\\Python\\Python311\\Lib\\site-packages\\torchvision\\models\\_utils.py:208: UserWarning: The parameter 'pretrained' is deprecated since 0.13 and may be removed in the future, please use 'weights' instead.\n",
      "  warnings.warn(\n",
      "c:\\Users\\ashub_bysvvo7\\AppData\\Local\\Programs\\Python\\Python311\\Lib\\site-packages\\torchvision\\models\\_utils.py:223: UserWarning: Arguments other than a weight enum or `None` for 'weights' are deprecated since 0.13 and may be removed in the future. The current behavior is equivalent to passing `weights=EfficientNet_B0_Weights.IMAGENET1K_V1`. You can also use `weights=EfficientNet_B0_Weights.DEFAULT` to get the most up-to-date weights.\n",
      "  warnings.warn(msg)\n",
      "c:\\Users\\ashub_bysvvo7\\AppData\\Local\\Programs\\Python\\Python311\\Lib\\site-packages\\torchvision\\models\\_utils.py:223: UserWarning: Arguments other than a weight enum or `None` for 'weights' are deprecated since 0.13 and may be removed in the future. The current behavior is equivalent to passing `weights=ViT_B_16_Weights.IMAGENET1K_V1`. You can also use `weights=ViT_B_16_Weights.DEFAULT` to get the most up-to-date weights.\n",
      "  warnings.warn(msg)\n",
      "Processing processed_dataset/Acne and Rosacea Photos/: 100%|██████████| 1544/1544 [13:44<00:00,  1.87it/s]"
     ]
    },
    {
     "name": "stdout",
     "output_type": "stream",
     "text": [
      "✅ Feature extraction complete. Features saved for further use.\n"
     ]
    },
    {
     "name": "stderr",
     "output_type": "stream",
     "text": [
      "\n"
     ]
    }
   ],
   "source": [
    "# Define paths\n",
    "data_dir = \"processed_dataset/\"\n",
    "Acne_Rosacea_dir = os.path.join(data_dir, \"Acne and Rosacea Photos/\")\n",
    "eczema_dir = os.path.join(data_dir, \"eczema/\")  # Added eczema folder\n",
    "normal_dir = os.path.join(data_dir, \"normal/\")\n",
    "feature_save_path = \"extracted_features/\"\n",
    "\n",
    "# Create directory if not exists\n",
    "os.makedirs(feature_save_path, exist_ok=True)\n",
    "\n",
    "# Load Pretrained Models\n",
    "efficientnet = efficientnet_b0(pretrained=True)\n",
    "efficientnet.eval()\n",
    "\n",
    "vit = vit_b_16(pretrained=True)\n",
    "vit.eval()\n",
    "\n",
    "# Feature Extraction Function\n",
    "def extract_features(model, image):\n",
    "    with torch.no_grad():\n",
    "        features = model(image.unsqueeze(0))\n",
    "    return features.squeeze().numpy()\n",
    "\n",
    "# Process Images and Extract Features\n",
    "def process_and_save_features(folder, save_filename):\n",
    "    features_list = []\n",
    "    image_files = os.listdir(folder)\n",
    "    \n",
    "    for filename in tqdm(image_files, desc=f\"Processing {folder}\"):\n",
    "        img_path = os.path.join(folder, filename)\n",
    "        try:\n",
    "            image = torch.load(img_path)\n",
    "            eff_features = extract_features(efficientnet, image)\n",
    "            vit_features = extract_features(vit, image)\n",
    "            combined_features = np.concatenate((eff_features, vit_features))\n",
    "            features_list.append(combined_features)\n",
    "        except Exception as e:\n",
    "            print(f\"Error processing {img_path}: {e}\")\n",
    "    \n",
    "    np.save(os.path.join(feature_save_path, save_filename), np.array(features_list))\n",
    "\n",
    "# Extract features for all classes\n",
    "process_and_save_features(Acne_Rosacea_dir, \"Acne and Rosacea Photos.npy\")\n",
    "process_and_save_features(eczema_dir, \"eczema_features.npy\")  # Added eczema processing\n",
    "process_and_save_features(normal_dir, \"normal_features.npy\")\n",
    "\n",
    "print(\"✅ Feature extraction complete. Features saved for further use.\")"
   ]
  },
  {
   "cell_type": "markdown",
   "metadata": {},
   "source": [
    "Feature Reduction(PCA) & Model training - XGBoost"
   ]
  },
  {
   "cell_type": "code",
   "execution_count": 7,
   "metadata": {},
   "outputs": [
    {
     "name": "stdout",
     "output_type": "stream",
     "text": [
      "🔄 Applying PCA for Feature Reduction...\n",
      "✅ PCA Applied! New Shape: (4632, 2000)\n"
     ]
    },
    {
     "data": {
      "image/png": "[encoded data removed]",
      "text/plain": [
       "<Figure size 1000x500 with 1 Axes>"
      ]
     },
     "metadata": {},
     "output_type": "display_data"
    },
    {
     "name": "stdout",
     "output_type": "stream",
     "text": [
      "✅ PCA Model Saved as 'pca_model.pkl'\n",
      "🚀 Training XGBoost Model...\n"
     ]
    },
    {
     "name": "stderr",
     "output_type": "stream",
     "text": [
      "c:\\Users\\ashub_bysvvo7\\AppData\\Local\\Programs\\Python\\Python311\\Lib\\site-packages\\xgboost\\training.py:183: UserWarning: [18:25:44] WARNING: C:\\actions-runner\\_work\\xgboost\\xgboost\\src\\learner.cc:738: \n",
      "Parameters: { \"use_label_encoder\" } are not used.\n",
      "\n",
      "  bst.update(dtrain, iteration=i, fobj=obj)\n"
     ]
    },
    {
     "name": "stdout",
     "output_type": "stream",
     "text": [
      "✅ Model Saved as 'xgboost_skin_disease_model.pkl'\n",
      "📊 Evaluating Model...\n",
      "✅ Accuracy: 93.20%\n",
      "🔍 Classification Report:\n",
      "                precision    recall  f1-score   support\n",
      "\n",
      "        Normal       0.96      0.97      0.96       309\n",
      "Acne & Rosacea       0.92      0.93      0.92       309\n",
      "        Eczema       0.92      0.89      0.91       309\n",
      "\n",
      "      accuracy                           0.93       927\n",
      "     macro avg       0.93      0.93      0.93       927\n",
      "  weighted avg       0.93      0.93      0.93       927\n",
      "\n"
     ]
    }
   ],
   "source": [
    "\n",
    "# ✅ Load Feature Files (Ensure These Are Pre-Extracted)\n",
    "normal_features = np.load(\"extracted_features/normal_features.npy\")  # Shape: (num_samples, num_features)\n",
    "disease1_features = np.load(\"extracted_features/Acne and Rosacea Photos.npy\")\n",
    "disease2_features = np.load(\"extracted_features/eczema_features.npy\")\n",
    "\n",
    "# ✅ Create Labels\n",
    "normal_labels = np.zeros((normal_features.shape[0],))  # 0 for Normal\n",
    "disease1_labels = np.ones((disease1_features.shape[0],))  # 1 for Disease 1\n",
    "disease2_labels = np.full((disease2_features.shape[0],), 2)  # 2 for Disease 2\n",
    "\n",
    "# ✅ Combine into a Single Dataset\n",
    "X = np.vstack([normal_features, disease1_features, disease2_features])  # Features\n",
    "y = np.hstack([normal_labels, disease1_labels, disease2_labels])  # Labels\n",
    "\n",
    "\n",
    "print(\"🔄 Applying PCA for Feature Reduction...\")\n",
    "pca = PCA(n_components=min(2000, X.shape[1]))  # Ensure n_components is valid\n",
    "X_pca = pca.fit_transform(X)  # ✅ Fit & Transform\n",
    "print(f\"✅ PCA Applied! New Shape: {X_pca.shape}\")\n",
    "\n",
    "# ✅ Plot PCA Explained Variance\n",
    "plt.figure(figsize=(10, 5))\n",
    "plt.plot(np.cumsum(pca.explained_variance_ratio_), marker='o', linestyle='--', color='b')\n",
    "plt.xlabel(\"Number of Components\")\n",
    "plt.ylabel(\"Cumulative Explained Variance\")\n",
    "plt.title(\"PCA Explained Variance Graph\")\n",
    "plt.grid(True)\n",
    "plt.show()\n",
    "\n",
    "# ✅ Save PCA Model for Future Use\n",
    "joblib.dump(pca, \"pca_model.pkl\")\n",
    "print(\"✅ PCA Model Saved as 'pca_model.pkl'\")\n",
    "\n",
    "# ✅ Split into Train & Test Sets (80% Train, 20% Test)\n",
    "X_train, X_test, y_train, y_test = train_test_split(X_pca, y, test_size=0.2, random_state=42, stratify=y)\n",
    "\n",
    "# ✅ Train XGBoost Classifier\n",
    "print(\"🚀 Training XGBoost Model...\")\n",
    "model = xgb.XGBClassifier(objective=\"multi:softmax\", num_class=3, eval_metric=\"mlogloss\", use_label_encoder=False)\n",
    "model.fit(X_train, y_train)\n",
    "\n",
    "# ✅ Save Trained XGBoost Model\n",
    "model_filename = \"xgboost_skin_disease_model.pkl\"\n",
    "joblib.dump(model, model_filename)\n",
    "print(f\"✅ Model Saved as '{model_filename}'\")\n",
    "\n",
    "# ✅ Evaluate the Model\n",
    "print(\"📊 Evaluating Model...\")\n",
    "y_pred = model.predict(X_test)\n",
    "accuracy = accuracy_score(y_test, y_pred)\n",
    "print(f\"✅ Accuracy: {accuracy * 100:.2f}%\")\n",
    "\n",
    "# ✅ Display Classification Report\n",
    "print(\"🔍 Classification Report:\")\n",
    "print(classification_report(y_test, y_pred, target_names=[\"Normal\", \"Acne & Rosacea\", \"Eczema\"]))\n"
   ]
  },
  {
   "cell_type": "markdown",
   "metadata": {},
   "source": [
    "Pre-processing & Feature Extraction of testing images"
   ]
  },
  {
   "cell_type": "code",
   "execution_count": 10,
   "metadata": {},
   "outputs": [
    {
     "name": "stderr",
     "output_type": "stream",
     "text": [
      "🔄 Extracting Features: 100%|██████████| 18/18 [00:12<00:00,  1.40it/s]"
     ]
    },
    {
     "name": "stdout",
     "output_type": "stream",
     "text": [
      "✅ Feature Extraction Complete! Features saved.\n"
     ]
    },
    {
     "name": "stderr",
     "output_type": "stream",
     "text": [
      "\n"
     ]
    }
   ],
   "source": [
    "\n",
    "\n",
    "# ✅ Define Paths\n",
    "image_folder = \"new_images/\"\n",
    "feature_save_path = \"new_images_features.npy\"\n",
    "image_names_path = \"image_names.npy\"\n",
    "\n",
    "# ✅ Define Image Transformations\n",
    "transform = transforms.Compose([\n",
    "    transforms.Resize((224, 224)),\n",
    "    transforms.ToTensor(),\n",
    "    transforms.Normalize(mean=[0.5, 0.5, 0.5], std=[0.5, 0.5, 0.5])\n",
    "])\n",
    "\n",
    "# ✅ Load Pretrained Models\n",
    "efficient_net = efficientnet_b0(weights=\"IMAGENET1K_V1\")\n",
    "efficient_net.eval()\n",
    "\n",
    "vit_model = vit_b_16(weights=\"IMAGENET1K_V1\")\n",
    "vit_model.eval()\n",
    "\n",
    "# ✅ Feature Extraction Function\n",
    "def extract_features(image_path):\n",
    "    try:\n",
    "        image = Image.open(image_path).convert(\"RGB\")  # ✅ Corrected: Use PIL to load images\n",
    "        image = transform(image)  # Apply transforms\n",
    "        eff_features = efficient_net(image.unsqueeze(0)).detach().numpy().flatten()\n",
    "        vit_features = vit_model(image.unsqueeze(0)).detach().numpy().flatten()\n",
    "        return np.concatenate([eff_features, vit_features])\n",
    "    except Exception as e:\n",
    "        print(f\"❌ Error processing {image_path}: {e}\")\n",
    "        return None\n",
    "\n",
    "# ✅ Process Images & Extract Features\n",
    "image_files = os.listdir(image_folder)\n",
    "features_list = []\n",
    "image_names = []\n",
    "\n",
    "for filename in tqdm(image_files, desc=\"🔄 Extracting Features\"):\n",
    "    img_path = os.path.join(image_folder, filename)\n",
    "    features = extract_features(img_path)\n",
    "    if features is not None:\n",
    "        features_list.append(features)\n",
    "        image_names.append(filename)\n",
    "\n",
    "# ✅ Save Extracted Features & Image Names\n",
    "np.save(feature_save_path, np.array(features_list))\n",
    "np.save(image_names_path, np.array(image_names))\n",
    "\n",
    "print(\"✅ Feature Extraction Complete! Features saved.\")\n"
   ]
  },
  {
   "cell_type": "markdown",
   "metadata": {},
   "source": [
    "Classifying New images using trained model"
   ]
  },
  {
   "cell_type": "code",
   "execution_count": 11,
   "metadata": {},
   "outputs": [
    {
     "name": "stdout",
     "output_type": "stream",
     "text": [
      "🔹 Transformed Feature Shape (After PCA): (18, 2000)\n",
      "\n",
      "📌 **Classification Results (Categorized by Disease):**\n",
      "\n",
      "🔹 Eczema (7 images):\n",
      "   🖼️ 03DermatitisArm.jpg\n",
      "   🖼️ acne-closed-comedo-8.jpg\n",
      "   🖼️ Dyshidrosis-22.jpg\n",
      "   🖼️ Dyshidrosis-23.jpg\n",
      "   🖼️ eczema-areola-16.jpg\n",
      "   🖼️ eczema-asteatotic-16.jpg\n",
      "   🖼️ normal122.png\n",
      "\n",
      "🔹 Acne & Rosacea (9 images):\n",
      "   🖼️ 07AcnePittedScars1.jpg\n",
      "   🖼️ 07rosaceaTreated091806OK.jpg\n",
      "   🖼️ 07VascularFace0120.jpg\n",
      "   🖼️ acne-closed-comedo-27.jpg\n",
      "   🖼️ acne-open-comedo-4 - Copy.jpg\n",
      "   🖼️ acne-pustular-9.jpg\n",
      "   🖼️ dup_acne-cystic-18.jpg\n",
      "   🖼️ dup_acne-excoriated-1 - Copy.jpg\n",
      "   🖼️ dup_acne-open-comedo-64.jpg\n",
      "\n",
      "🔹 Normal (2 images):\n",
      "   🖼️ normal104.png\n",
      "   🖼️ normal90.png\n"
     ]
    }
   ],
   "source": [
    "\n",
    "\n",
    "# ✅ Load Trained XGBoost Model\n",
    "xgb_model_path = \"xgboost_skin_disease_model.pkl\"\n",
    "if not os.path.exists(xgb_model_path):\n",
    "    raise FileNotFoundError(\"❌ Model file not found!\")\n",
    "\n",
    "model = joblib.load(xgb_model_path)\n",
    "\n",
    "# ✅ Load Extracted Features & Image Names\n",
    "feature_save_path = \"new_images_features.npy\"\n",
    "image_names_path = \"image_names.npy\"\n",
    "\n",
    "if not os.path.exists(feature_save_path) or not os.path.exists(image_names_path):\n",
    "    raise FileNotFoundError(\"❌ Feature file or image names file not found!\")\n",
    "\n",
    "features = np.load(feature_save_path)  # ✅ Load Full Features (2560 dimensions)\n",
    "image_names = np.load(image_names_path)\n",
    "\n",
    "# ✅ Load PCA Model\n",
    "pca_model_path = \"pca_model.pkl\"\n",
    "if not os.path.exists(pca_model_path):\n",
    "    raise FileNotFoundError(\"❌ PCA model file not found!\")\n",
    "\n",
    "pca = joblib.load(pca_model_path)\n",
    "\n",
    "# ✅ Apply PCA for Feature Reduction\n",
    "features = pca.transform(features)  # ✅ Transform only (DO NOT fit again)\n",
    "print(f\"🔹 Transformed Feature Shape (After PCA): {features.shape}\")\n",
    "\n",
    "# ✅ Predict Classes\n",
    "predictions = model.predict(features)\n",
    "\n",
    "# ✅ Class Labels (Modify According to Your Training Classes)\n",
    "disease_classes = [\"Normal\", \"Acne & Rosacea\", \"Eczema\"]  # Modify if needed\n",
    "\n",
    "# ✅ Categorize Results by Disease\n",
    "categorized_results = defaultdict(list)\n",
    "for i, image_name in enumerate(image_names):\n",
    "    disease = disease_classes[int(predictions[i])]\n",
    "    categorized_results[disease].append(image_name)\n",
    "\n",
    "# ✅ Display Categorized Results\n",
    "print(\"\\n📌 **Classification Results (Categorized by Disease):**\")\n",
    "for disease, images in categorized_results.items():\n",
    "    print(f\"\\n🔹 {disease} ({len(images)} images):\")\n",
    "    for img in images:\n",
    "        print(f\"   🖼️ {img}\")\n"
   ]
  },
  {
   "cell_type": "code",
   "execution_count": 12,
   "metadata": {},
   "outputs": [
    {
     "data": {
      "text/plain": [
       "array([[6.12509248e-05, 2.06336234e-04, 9.99732435e-01],\n",
       "       [2.68241682e-04, 9.94010091e-01, 5.72168734e-03],\n",
       "       [5.07565923e-02, 6.53397083e-01, 2.95846343e-01],\n",
       "       [6.23467844e-04, 5.24548411e-01, 4.74828035e-01],\n",
       "       [1.25897190e-04, 9.97790337e-01, 2.08385289e-03],\n",
       "       [4.52002394e-04, 1.45147011e-01, 8.54400992e-01],\n",
       "       [3.85878229e-05, 9.99401212e-01, 5.60155197e-04],\n",
       "       [1.00058875e-04, 9.99854326e-01, 4.56109374e-05],\n",
       "       [4.58583199e-05, 9.99139309e-01, 8.14824947e-04],\n",
       "       [5.09535777e-04, 9.98728454e-01, 7.62026350e-04],\n",
       "       [1.91793715e-05, 9.99917150e-01, 6.36716213e-05],\n",
       "       [3.97426338e-05, 2.36635111e-04, 9.99723613e-01],\n",
       "       [4.02679507e-05, 5.66559844e-04, 9.99393106e-01],\n",
       "       [8.40906505e-05, 7.22729554e-03, 9.92688596e-01],\n",
       "       [1.52451918e-04, 3.88510525e-04, 9.99459088e-01],\n",
       "       [9.99814332e-01, 4.16652256e-05, 1.44022400e-04],\n",
       "       [2.14524120e-01, 6.53035492e-02, 7.20172286e-01],\n",
       "       [9.99769151e-01, 1.20855031e-04, 1.10029883e-04]], dtype=float32)"
      ]
     },
     "execution_count": 12,
     "metadata": {},
     "output_type": "execute_result"
    }
   ],
   "source": [
    "model.predict_proba(features)"
   ]
  }
 ],
 "metadata": {
  "kernelspec": {
   "display_name": "Python 3",
   "language": "python",
   "name": "python3"
  },
  "language_info": {
   "codemirror_mode": {
    "name": "ipython",
    "version": 3
   },
   "file_extension": ".py",
   "mimetype": "text/x-python",
   "name": "python",
   "nbconvert_exporter": "python",
   "pygments_lexer": "ipython3",
   "version": "3.11.9"
  }
 },
 "nbformat": 4,
 "nbformat_minor": 2
}
